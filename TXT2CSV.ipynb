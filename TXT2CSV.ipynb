{
 "cells": [
  {
   "cell_type": "code",
   "execution_count": 30,
   "metadata": {},
   "outputs": [],
   "source": [
    "import os\n",
    "import csv\n",
    "\n",
    "def merge_txt_files_to_csv(folder_path, output_csv):\n",
    "    # Membuka file CSV untuk menulis\n",
    "    with open(output_csv, 'w', newline='', encoding='utf-8') as csvfile:\n",
    "        csv_writer = csv.writer(csvfile)\n",
    "        # Menulis header kolom\n",
    "        csv_writer.writerow(['Judul', 'Teks'])\n",
    "\n",
    "        # Melakukan iterasi pada setiap file dalam folder\n",
    "        for file_name in os.listdir(folder_path):\n",
    "            if file_name.endswith('.txt'):\n",
    "                # Mendapatkan nama file tanpa ekstensi\n",
    "                nama_file = os.path.splitext(file_name)[0]\n",
    "                # Membaca isi file teks\n",
    "                with open(os.path.join(folder_path, file_name), 'r', encoding='utf-8') as txt_file:\n",
    "                    txt_content = txt_file.read()\n",
    "                    # Menghapus semua '\\n' dari isi teks\n",
    "                    txt_content = txt_content.replace('\\n', '')\n",
    "                # Menulis baris baru ke file CSV\n",
    "                csv_writer.writerow([nama_file, txt_content])\n",
    "\n",
    "# Contoh penggunaan:\n",
    "folder_path = r\"C:\\Users\\muham\\OneDrive - Universitas Airlangga\\Semester 6\\Sistem Temu Kembali Informasi\\Tugas dan Latihan\\Final tugas akhir\\File UU TXT\"\n",
    "output_csv = r'C:\\Users\\muham\\OneDrive - Universitas Airlangga\\Semester 6\\Sistem Temu Kembali Informasi\\Tugas dan Latihan\\Final tugas akhir\\ALL FILE CSV\\all_file.csv'\n",
    "merge_txt_files_to_csv(folder_path, output_csv)"
   ]
  },
  {
   "cell_type": "code",
   "execution_count": 32,
   "metadata": {},
   "outputs": [
    {
     "data": {
      "text/html": [
       "<div>\n",
       "<style scoped>\n",
       "    .dataframe tbody tr th:only-of-type {\n",
       "        vertical-align: middle;\n",
       "    }\n",
       "\n",
       "    .dataframe tbody tr th {\n",
       "        vertical-align: top;\n",
       "    }\n",
       "\n",
       "    .dataframe thead th {\n",
       "        text-align: right;\n",
       "    }\n",
       "</style>\n",
       "<table border=\"1\" class=\"dataframe\">\n",
       "  <thead>\n",
       "    <tr style=\"text-align: right;\">\n",
       "      <th></th>\n",
       "      <th>Judul</th>\n",
       "      <th>Teks</th>\n",
       "    </tr>\n",
       "  </thead>\n",
       "  <tbody>\n",
       "    <tr>\n",
       "      <th>0</th>\n",
       "      <td>Undang-Undang Nomor 1 Tahun 1945</td>\n",
       "      <td>Teks tidak dalam format asli.  Kembali : tekan...</td>\n",
       "    </tr>\n",
       "    <tr>\n",
       "      <th>1</th>\n",
       "      <td>Undang-Undang Nomor 1 Tahun 1946</td>\n",
       "      <td>UNDANG-UNDANG REPUBLIK INDONESIA  NOMOR 1 TA...</td>\n",
       "    </tr>\n",
       "    <tr>\n",
       "      <th>2</th>\n",
       "      <td>Undang-Undang Nomor 1 Tahun 1947</td>\n",
       "      <td>UNDANG-UNDANG REPUBLIK INDONESIA  NOMOR 1 TA...</td>\n",
       "    </tr>\n",
       "    <tr>\n",
       "      <th>3</th>\n",
       "      <td>Undang-Undang Nomor 1 Tahun 1948</td>\n",
       "      <td>UNDANG-UNDANG REPUBLIK INDONESIA NOMOR 1 TAH...</td>\n",
       "    </tr>\n",
       "    <tr>\n",
       "      <th>4</th>\n",
       "      <td>Undang-Undang Nomor 1 Tahun 1949</td>\n",
       "      <td>UNDANG-UNDANG (UU)  1949 No. 1 (1/1949) Peratu...</td>\n",
       "    </tr>\n",
       "    <tr>\n",
       "      <th>...</th>\n",
       "      <td>...</td>\n",
       "      <td>...</td>\n",
       "    </tr>\n",
       "    <tr>\n",
       "      <th>1659</th>\n",
       "      <td>Undang-Undang Nomor 9 Tahun 2019</td>\n",
       "      <td>LEMBARAN NEGARA  REPUBLIK INDONESIA  No.142...</td>\n",
       "    </tr>\n",
       "    <tr>\n",
       "      <th>1660</th>\n",
       "      <td>Undang-Undang Nomor 9 Tahun 2020</td>\n",
       "      <td>LEMBARAN NEGARA  REPUBLIK INDONESIA  No.239...</td>\n",
       "    </tr>\n",
       "    <tr>\n",
       "      <th>1661</th>\n",
       "      <td>Undang-Undang Nomor 9 Tahun 2021</td>\n",
       "      <td>LEMBARAN NEGARA  REPUBLIK INDONESIA  No.296...</td>\n",
       "    </tr>\n",
       "    <tr>\n",
       "      <th>1662</th>\n",
       "      <td>Undang-Undang Nomor 9 Tahun 2022</td>\n",
       "      <td>LEMBARAN NEGARA  REPUBLIK INDONESIA  No.69,...</td>\n",
       "    </tr>\n",
       "    <tr>\n",
       "      <th>1663</th>\n",
       "      <td>Undang-Undang Nomor 9 Tahun 2023</td>\n",
       "      <td>MenimbangSALINANPRESIDENREPUBLIK INDONESIAUNDA...</td>\n",
       "    </tr>\n",
       "  </tbody>\n",
       "</table>\n",
       "<p>1664 rows × 2 columns</p>\n",
       "</div>"
      ],
      "text/plain": [
       "                                 Judul  \\\n",
       "0     Undang-Undang Nomor 1 Tahun 1945   \n",
       "1     Undang-Undang Nomor 1 Tahun 1946   \n",
       "2     Undang-Undang Nomor 1 Tahun 1947   \n",
       "3     Undang-Undang Nomor 1 Tahun 1948   \n",
       "4     Undang-Undang Nomor 1 Tahun 1949   \n",
       "...                                ...   \n",
       "1659  Undang-Undang Nomor 9 Tahun 2019   \n",
       "1660  Undang-Undang Nomor 9 Tahun 2020   \n",
       "1661  Undang-Undang Nomor 9 Tahun 2021   \n",
       "1662  Undang-Undang Nomor 9 Tahun 2022   \n",
       "1663  Undang-Undang Nomor 9 Tahun 2023   \n",
       "\n",
       "                                                   Teks  \n",
       "0     Teks tidak dalam format asli.  Kembali : tekan...  \n",
       "1       UNDANG-UNDANG REPUBLIK INDONESIA  NOMOR 1 TA...  \n",
       "2       UNDANG-UNDANG REPUBLIK INDONESIA  NOMOR 1 TA...  \n",
       "3       UNDANG-UNDANG REPUBLIK INDONESIA NOMOR 1 TAH...  \n",
       "4     UNDANG-UNDANG (UU)  1949 No. 1 (1/1949) Peratu...  \n",
       "...                                                 ...  \n",
       "1659     LEMBARAN NEGARA  REPUBLIK INDONESIA  No.142...  \n",
       "1660     LEMBARAN NEGARA  REPUBLIK INDONESIA  No.239...  \n",
       "1661     LEMBARAN NEGARA  REPUBLIK INDONESIA  No.296...  \n",
       "1662     LEMBARAN NEGARA  REPUBLIK INDONESIA  No.69,...  \n",
       "1663  MenimbangSALINANPRESIDENREPUBLIK INDONESIAUNDA...  \n",
       "\n",
       "[1664 rows x 2 columns]"
      ]
     },
     "execution_count": 32,
     "metadata": {},
     "output_type": "execute_result"
    }
   ],
   "source": [
    "import pandas as pd\n",
    "data = pd.read_csv(r\"C:\\Users\\muham\\OneDrive - Universitas Airlangga\\Semester 6\\Sistem Temu Kembali Informasi\\Tugas dan Latihan\\Final tugas akhir\\ALL FILE CSV\\all_file.csv\")\n",
    "data"
   ]
  },
  {
   "cell_type": "code",
   "execution_count": 33,
   "metadata": {},
   "outputs": [
    {
     "name": "stdout",
     "output_type": "stream",
     "text": [
      "Judul    object\n",
      "Teks     object\n",
      "dtype: object\n"
     ]
    }
   ],
   "source": [
    "tipe_data = data.dtypes\n",
    "print(tipe_data)\n"
   ]
  },
  {
   "cell_type": "code",
   "execution_count": 34,
   "metadata": {},
   "outputs": [
    {
     "name": "stdout",
     "output_type": "stream",
     "text": [
      "Judul    False\n",
      "Teks     False\n",
      "dtype: bool\n"
     ]
    }
   ],
   "source": [
    "# Mengetahui kolom mana yang memiliki data kosong\n",
    "kolom_kosong = data.isnull().any()\n",
    "print(kolom_kosong)\n",
    "\n",
    "# # Mengetahui baris mana yang memiliki data kosong\n",
    "# baris_kosong = data.isnull().any(axis=1)\n",
    "# print(baris_kosong)\n"
   ]
  },
  {
   "cell_type": "code",
   "execution_count": 35,
   "metadata": {},
   "outputs": [
    {
     "name": "stdout",
     "output_type": "stream",
     "text": [
      "Judul    0\n",
      "Teks     0\n",
      "dtype: int64\n"
     ]
    }
   ],
   "source": [
    "jumlah_kosong = data.isnull().sum()\n",
    "print(jumlah_kosong)"
   ]
  },
  {
   "cell_type": "code",
   "execution_count": 36,
   "metadata": {},
   "outputs": [
    {
     "name": "stdout",
     "output_type": "stream",
     "text": [
      "0\n"
     ]
    }
   ],
   "source": [
    "# Mengetahui baris mana yang duplikat\n",
    "baris_duplikat = data.duplicated().sum()\n",
    "print(baris_duplikat)"
   ]
  },
  {
   "cell_type": "code",
   "execution_count": 37,
   "metadata": {},
   "outputs": [
    {
     "name": "stdout",
     "output_type": "stream",
     "text": [
      "Index([], dtype='int64')\n"
     ]
    }
   ],
   "source": [
    "# Mengetahui baris mana yang memiliki data kosong\n",
    "baris_kosong = data.isnull().any(axis=1)\n",
    "baris_kosong_index = baris_kosong[baris_kosong].index\n",
    "print(baris_kosong_index)\n"
   ]
  },
  {
   "cell_type": "code",
   "execution_count": 38,
   "metadata": {},
   "outputs": [
    {
     "data": {
      "text/plain": [
       "'Undang-Undang Nomor 15 Tahun 2022'"
      ]
     },
     "execution_count": 38,
     "metadata": {},
     "output_type": "execute_result"
    }
   ],
   "source": [
    "data[\"Judul\"][369]"
   ]
  },
  {
   "cell_type": "code",
   "execution_count": 39,
   "metadata": {},
   "outputs": [
    {
     "data": {
      "text/plain": [
       "'Undang-Undang Nomor 16 Tahun 2022'"
      ]
     },
     "execution_count": 39,
     "metadata": {},
     "output_type": "execute_result"
    }
   ],
   "source": [
    "data[\"Judul\"][408]"
   ]
  },
  {
   "cell_type": "code",
   "execution_count": 22,
   "metadata": {},
   "outputs": [
    {
     "data": {
      "text/plain": [
       "'Undang-Undang Nomor 17 Tahun 2002'"
      ]
     },
     "execution_count": 22,
     "metadata": {},
     "output_type": "execute_result"
    }
   ],
   "source": [
    "data[\"Judul\"][432]"
   ]
  },
  {
   "cell_type": "code",
   "execution_count": 23,
   "metadata": {},
   "outputs": [
    {
     "data": {
      "text/plain": [
       "'Undang-Undang Nomor 17 Tahun 2022'"
      ]
     },
     "execution_count": 23,
     "metadata": {},
     "output_type": "execute_result"
    }
   ],
   "source": [
    "data[\"Judul\"][445]"
   ]
  },
  {
   "cell_type": "code",
   "execution_count": 24,
   "metadata": {},
   "outputs": [
    {
     "data": {
      "text/plain": [
       "'Undang-Undang Nomor 18 Tahun 2022'"
      ]
     },
     "execution_count": 24,
     "metadata": {},
     "output_type": "execute_result"
    }
   ],
   "source": [
    "data[\"Judul\"][477]"
   ]
  },
  {
   "cell_type": "code",
   "execution_count": 25,
   "metadata": {},
   "outputs": [
    {
     "data": {
      "text/plain": [
       "'Undang-Undang Nomor 19 Tahun 2022'"
      ]
     },
     "execution_count": 25,
     "metadata": {},
     "output_type": "execute_result"
    }
   ],
   "source": [
    "data[\"Judul\"][510]"
   ]
  },
  {
   "cell_type": "code",
   "execution_count": 26,
   "metadata": {},
   "outputs": [
    {
     "data": {
      "text/plain": [
       "'Undang-Undang Nomor 20 Tahun 2022'"
      ]
     },
     "execution_count": 26,
     "metadata": {},
     "output_type": "execute_result"
    }
   ],
   "source": [
    "data[\"Judul\"][615]"
   ]
  },
  {
   "cell_type": "code",
   "execution_count": 27,
   "metadata": {},
   "outputs": [
    {
     "data": {
      "text/plain": [
       "'Undang-Undang Nomor 21 Tahun 1997'"
      ]
     },
     "execution_count": 27,
     "metadata": {},
     "output_type": "execute_result"
    }
   ],
   "source": [
    "data[\"Judul\"][631]"
   ]
  },
  {
   "cell_type": "code",
   "execution_count": 28,
   "metadata": {},
   "outputs": [
    {
     "data": {
      "text/plain": [
       "'Undang-Undang Nomor 21 Tahun 2022'"
      ]
     },
     "execution_count": 28,
     "metadata": {},
     "output_type": "execute_result"
    }
   ],
   "source": [
    "data[\"Judul\"][647]"
   ]
  },
  {
   "cell_type": "code",
   "execution_count": 29,
   "metadata": {},
   "outputs": [
    {
     "data": {
      "text/plain": [
       "'Undang-Undang Nomor 6 Tahun 1997'"
      ]
     },
     "execution_count": 29,
     "metadata": {},
     "output_type": "execute_result"
    }
   ],
   "source": [
    "data[\"Judul\"][1382]"
   ]
  }
 ],
 "metadata": {
  "kernelspec": {
   "display_name": "Python 3",
   "language": "python",
   "name": "python3"
  },
  "language_info": {
   "codemirror_mode": {
    "name": "ipython",
    "version": 3
   },
   "file_extension": ".py",
   "mimetype": "text/x-python",
   "name": "python",
   "nbconvert_exporter": "python",
   "pygments_lexer": "ipython3",
   "version": "3.11.4"
  }
 },
 "nbformat": 4,
 "nbformat_minor": 2
}
